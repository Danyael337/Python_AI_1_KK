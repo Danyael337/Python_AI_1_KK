{
 "cells": [
  {
   "cell_type": "markdown",
   "id": "dacf74e6",
   "metadata": {},
   "source": [
    "# NumPy"
   ]
  },
  {
   "cell_type": "markdown",
   "id": "01b2bf34",
   "metadata": {},
   "source": [
    "Read the links: https://numpy.org/doc/stable/user/quickstart.html  and https://numpy.org/doc/stable/user/basics.broadcasting.html  before solving the exercises. "
   ]
  },
  {
   "cell_type": "code",
   "execution_count": 3,
   "id": "1f79e4a6",
   "metadata": {},
   "outputs": [],
   "source": [
    "import numpy as np"
   ]
  },
  {
   "cell_type": "markdown",
   "id": "7dae6889",
   "metadata": {},
   "source": [
    "### Print out the dimension (number of axes), shape, size and the datatype of the matrix A."
   ]
  },
  {
   "cell_type": "code",
   "execution_count": 4,
   "id": "7b3678cd",
   "metadata": {},
   "outputs": [
    {
     "name": "stdout",
     "output_type": "stream",
     "text": [
      "Matrix A:\n",
      "[[ 1  2  3  4  5]\n",
      " [ 6  7  8  9 10]\n",
      " [11 12 13 14 15]]\n",
      "Dimension (ndim): 2\n",
      "Shape: (3, 5)\n",
      "Size: 15\n",
      "Data type (dtype): int64\n"
     ]
    }
   ],
   "source": [
    "A = np.arange(1, 16).reshape(3,5)\n",
    "print(\"Matrix A:\")\n",
    "print(A)\n",
    "print(\"Dimension (ndim):\", A.ndim)\n",
    "print(\"Shape:\", A.shape)\n",
    "print(\"Size:\", A.size)\n",
    "print(\"Data type (dtype):\", A.dtype)\n"
   ]
  },
  {
   "cell_type": "code",
   "execution_count": null,
   "id": "31d39235",
   "metadata": {},
   "outputs": [],
   "source": [
    "\n"
   ]
  },
  {
   "cell_type": "markdown",
   "id": "e56d2a96",
   "metadata": {},
   "source": [
    "### Do the following computations on the matrices B and C: \n",
    "* Elementwise subtraction. \n",
    "* Elementwise multiplication. \n",
    "* Matrix multiplication (by default you should use the @ operator)."
   ]
  },
  {
   "cell_type": "code",
   "execution_count": 5,
   "id": "a7053fbb",
   "metadata": {},
   "outputs": [
    {
     "name": "stdout",
     "output_type": "stream",
     "text": [
      "Matrix B:\n",
      "[[1 2 3]\n",
      " [4 5 6]\n",
      " [7 8 9]]\n",
      "\n",
      "Matrix C:\n",
      "[[2. 2. 2.]\n",
      " [2. 2. 2.]\n",
      " [2. 2. 2.]]\n",
      "\n",
      "1. Elementwise Subtraction (B - C):\n",
      "[[-1.  0.  1.]\n",
      " [ 2.  3.  4.]\n",
      " [ 5.  6.  7.]]\n",
      "\n",
      "2. Elementwise Multiplication (B * C):\n",
      "[[ 2.  4.  6.]\n",
      " [ 8. 10. 12.]\n",
      " [14. 16. 18.]]\n",
      "\n",
      "3. Matrix Multiplication (B @ C):\n",
      "[[12. 12. 12.]\n",
      " [30. 30. 30.]\n",
      " [48. 48. 48.]]\n"
     ]
    }
   ],
   "source": [
    "B = np.arange(1, 10).reshape(3, 3)\n",
    "C = np.ones((3, 3))*2\n",
    "\n",
    "print(\"Matrix B:\")\n",
    "print(B)\n",
    "print(\"\\nMatrix C:\")\n",
    "print(C)\n",
    "\n",
    "# 1. Elementwise subtraction\n",
    "subtraction = B - C\n",
    "print(\"\\n1. Elementwise Subtraction (B - C):\")\n",
    "print(subtraction)\n",
    "\n",
    "# 2. Elementwise multiplication\n",
    "elementwise_multiplication = B * C\n",
    "print(\"\\n2. Elementwise Multiplication (B * C):\")\n",
    "print(elementwise_multiplication)\n",
    "\n",
    "# 3. Matrix multiplication\n",
    "matrix_multiplication = B @ C\n",
    "print(\"\\n3. Matrix Multiplication (B @ C):\")\n",
    "print(matrix_multiplication)"
   ]
  },
  {
   "cell_type": "code",
   "execution_count": null,
   "id": "3cd794ae",
   "metadata": {},
   "outputs": [],
   "source": []
  },
  {
   "cell_type": "markdown",
   "id": "96030d53",
   "metadata": {},
   "source": [
    "### Do the following calculations on the matrix:\n",
    "* Exponentiate each number elementwise (use the np.exp function).\n",
    "\n",
    "* Calculate the minimum value in the whole matrix. \n",
    "* Calculcate the minimum value in each row. \n",
    "* Calculcate the minimum value in each column. \n",
    "\n",
    "\n",
    "* Find the index value for the minimum value in the whole matrix (hint: use np.argmin).\n",
    "* Find the index value for the minimum value in each row (hint: use np.argmin).\n",
    "\n",
    "\n",
    "* Calculate the sum for all elements.\n",
    "* Calculate the mean for each column. \n",
    "* Calculate the median for each column. "
   ]
  },
  {
   "cell_type": "code",
   "execution_count": 6,
   "id": "f8a9166b",
   "metadata": {},
   "outputs": [
    {
     "name": "stdout",
     "output_type": "stream",
     "text": [
      "Matrix B:\n",
      " [[1 2 3]\n",
      " [4 5 6]\n",
      " [7 8 9]]\n",
      "\n",
      "Exponentiated Matrix:\n",
      " [[2.71828183e+00 7.38905610e+00 2.00855369e+01]\n",
      " [5.45981500e+01 1.48413159e+02 4.03428793e+02]\n",
      " [1.09663316e+03 2.98095799e+03 8.10308393e+03]]\n",
      "\n",
      "Minimum value in the whole matrix: 1\n",
      "\n",
      "Minimum value in each row: [1 4 7]\n",
      "\n",
      "Minimum value in each column: [1 2 3]\n",
      "\n",
      "Index of the minimum value in the whole matrix: 0\n",
      "\n",
      "Index of the minimum value in each row: [0 0 0]\n",
      "\n",
      "Sum of all elements: 45\n",
      "\n",
      "Mean for each column: [4. 5. 6.]\n",
      "\n",
      "Median for each column: [4. 5. 6.]\n"
     ]
    }
   ],
   "source": [
    "B = np.arange(1, 10).reshape(3, 3)\n",
    "print(\"Matrix B:\\n\", B)\n",
    "\n",
    "# Exponentiate each number elementwise\n",
    "exp_B = np.exp(B)\n",
    "print(\"\\nExponentiated Matrix:\\n\", exp_B)\n",
    "\n",
    "# Minimum value in the whole matrix\n",
    "min_value = np.min(B)\n",
    "print(\"\\nMinimum value in the whole matrix:\", min_value)\n",
    "\n",
    "# Minimum value in each row\n",
    "min_value_row = np.min(B, axis=1)\n",
    "print(\"\\nMinimum value in each row:\", min_value_row)\n",
    "\n",
    "# Minimum value in each column\n",
    "min_value_col = np.min(B, axis=0)\n",
    "print(\"\\nMinimum value in each column:\", min_value_col)\n",
    "\n",
    "# Index of the minimum value in the whole matrix\n",
    "min_index = np.argmin(B)\n",
    "print(\"\\nIndex of the minimum value in the whole matrix:\", min_index)\n",
    "\n",
    "# Index of the minimum value in each row\n",
    "min_index_row = np.argmin(B, axis=1)\n",
    "print(\"\\nIndex of the minimum value in each row:\", min_index_row)\n",
    "\n",
    "# Sum of all elements\n",
    "sum_all = np.sum(B)\n",
    "print(\"\\nSum of all elements:\", sum_all)\n",
    "\n",
    "# Mean for each column\n",
    "mean_col = np.mean(B, axis=0)\n",
    "print(\"\\nMean for each column:\", mean_col)\n",
    "\n",
    "# Median for each column\n",
    "median_col = np.median(B, axis=0)\n",
    "print(\"\\nMedian for each column:\", median_col)"
   ]
  },
  {
   "cell_type": "code",
   "execution_count": null,
   "id": "f03f24f7",
   "metadata": {},
   "outputs": [],
   "source": []
  },
  {
   "cell_type": "markdown",
   "id": "541eb7ba",
   "metadata": {},
   "source": [
    "### What does it mean when you provide fewer indices than axes when slicing? See example below."
   ]
  },
  {
   "cell_type": "code",
   "execution_count": 7,
   "id": "9c8abf56",
   "metadata": {},
   "outputs": [
    {
     "name": "stdout",
     "output_type": "stream",
     "text": [
      "[[ 1  2  3  4  5]\n",
      " [ 6  7  8  9 10]\n",
      " [11 12 13 14 15]]\n"
     ]
    }
   ],
   "source": [
    "print(A)"
   ]
  },
  {
   "cell_type": "code",
   "execution_count": 8,
   "id": "69415f7b",
   "metadata": {},
   "outputs": [
    {
     "data": {
      "text/plain": [
       "array([ 6,  7,  8,  9, 10])"
      ]
     },
     "execution_count": 8,
     "metadata": {},
     "output_type": "execute_result"
    }
   ],
   "source": [
    "A[1]"
   ]
  },
  {
   "cell_type": "markdown",
   "id": "6c53541b",
   "metadata": {},
   "source": [
    "**Answer:**"
   ]
  },
  {
   "cell_type": "code",
   "execution_count": null,
   "id": "de01e120",
   "metadata": {},
   "outputs": [],
   "source": [
    "When you provide fewer indices than the total number of axes, NumPy returns a sub-array corresponding to the indexed dimension.\n",
    "For example, in a 2D array, A[1] selects the entire second row, while in a 3D array, A[1] would return a 2D slice."
   ]
  },
  {
   "cell_type": "markdown",
   "id": "6652d0c9",
   "metadata": {},
   "source": [
    "### Iterating over multidimensional arrays is done with respect to the first axis, so in the example below we iterate trough the rows. If you would like to iterate through the array *elementwise*, how would you do that?"
   ]
  },
  {
   "cell_type": "code",
   "execution_count": 14,
   "id": "9459864f",
   "metadata": {},
   "outputs": [
    {
     "data": {
      "text/plain": [
       "array([[ 1,  2,  3,  4,  5],\n",
       "       [ 6,  7,  8,  9, 10],\n",
       "       [11, 12, 13, 14, 15]])"
      ]
     },
     "execution_count": 14,
     "metadata": {},
     "output_type": "execute_result"
    }
   ],
   "source": [
    "A"
   ]
  },
  {
   "cell_type": "code",
   "execution_count": 13,
   "id": "a671bb5a",
   "metadata": {},
   "outputs": [
    {
     "name": "stdout",
     "output_type": "stream",
     "text": [
      "[1 2 3 4 5]\n",
      "[ 6  7  8  9 10]\n",
      "[11 12 13 14 15]\n"
     ]
    }
   ],
   "source": [
    "for i in A:\n",
    "    print(i)"
   ]
  },
  {
   "cell_type": "code",
   "execution_count": 12,
   "id": "f4e443a0",
   "metadata": {},
   "outputs": [
    {
     "name": "stdout",
     "output_type": "stream",
     "text": [
      "\n",
      "Elementwise iteration:\n",
      "1 2 3 4 5 6 7 8 9 10 11 12 13 14 15 "
     ]
    }
   ],
   "source": [
    "# Iterating elementwise\n",
    "print(\"\\nElementwise iteration:\")\n",
    "for element in np.nditer(A):\n",
    "    print(element, end=\" \")"
   ]
  },
  {
   "cell_type": "markdown",
   "id": "608a2583",
   "metadata": {},
   "source": [
    "### Explain what the code below does. More specifically, b has three axes - what does this mean? "
   ]
  },
  {
   "cell_type": "code",
   "execution_count": 11,
   "id": "f8f9b26f",
   "metadata": {},
   "outputs": [
    {
     "name": "stdout",
     "output_type": "stream",
     "text": [
      "[ 0  1  2  3  4  5  6  7  8  9 10 11 12 13 14 15 16 17 18 19 20 21 22 23\n",
      " 24 25 26 27 28 29]\n",
      "\n",
      "[[[ 0  1  2  3  4]\n",
      "  [ 5  6  7  8  9]\n",
      "  [10 11 12 13 14]]\n",
      "\n",
      " [[15 16 17 18 19]\n",
      "  [20 21 22 23 24]\n",
      "  [25 26 27 28 29]]]\n"
     ]
    }
   ],
   "source": [
    "a = np.arange(30)\n",
    "b = a.reshape((2, 3, -1))\n",
    "print(a)\n",
    "print()\n",
    "print(b)"
   ]
  },
  {
   "cell_type": "code",
   "execution_count": null,
   "id": "863a45df",
   "metadata": {},
   "outputs": [],
   "source": [
    "1. Creating the a array. This creates a 1D NumPy array with numbers from 0 to 29 (shape: (30,)) - [ 0  1  2  3 ... 27 28 29]"
   ]
  },
  {
   "cell_type": "code",
   "execution_count": null,
   "id": "eed38bbb-dd20-4d23-837f-679aa3d3a067",
   "metadata": {},
   "outputs": [],
   "source": [
    "2. Reshaping a into b. This reshapes a into a 3D array (b). The shape of b is determined by reshape(2, 3, -1), meaning:\n",
    "    2 blocks (or slices) along the first axis\n",
    "    3 rows per block\n",
    "    -1 lets NumPy automatically calculate the remaining dimension, which turns out to be 5 columns per row (because 2 × 3 × 5 = 30)."
   ]
  },
  {
   "cell_type": "code",
   "execution_count": null,
   "id": "e2ca8da3-2f5f-41cc-9a8a-bd3893ec0de1",
   "metadata": {},
   "outputs": [],
   "source": [
    "3. Printing the arrays a and b"
   ]
  },
  {
   "cell_type": "markdown",
   "id": "421c9607-819a-401d-949a-97424436fe29",
   "metadata": {},
   "source": [
    "# For the exercises below, read the document *\"matematik_yh_antonio_vektorer_matriser_utdrag\"*\n",
    "# Solutions to the exercises and recorded videos can be found here: https://github.com/AntonioPrgomet/matematik_foer_yh\n",
    "\n",
    "# If you find the exercises below very hard, do not worry. Try your best, that will be enough. "
   ]
  },
  {
   "cell_type": "markdown",
   "id": "ab5933d5",
   "metadata": {},
   "source": [
    "### Broadcasting\n",
    "**Read the following link about broadcasting: https://numpy.org/doc/stable/user/basics.broadcasting.html#basics-broadcasting**"
   ]
  },
  {
   "cell_type": "markdown",
   "id": "039805ba",
   "metadata": {},
   "source": [
    "# Remark on Broadcasting when doing Linear Algebra calculations in Python. "
   ]
  },
  {
   "cell_type": "markdown",
   "id": "c4bcc147",
   "metadata": {},
   "source": [
    "### From the mathematical rules of matrix addition, the operation below (m1 + m2) does not make sense. The reason is that matrix addition requires two matrices of the same size. In Python however, it works due to broadcasting rules in NumPy. So you must be careful when doing Linear Algebra calculations in Python since they do not follow the \"mathematical rules\". This can however easily be handled by doing some simple programming, for example validating that two matrices have the same shape is easy if you for instance want to add two matrices. "
   ]
  },
  {
   "cell_type": "code",
   "execution_count": 10,
   "id": "1fd46778",
   "metadata": {},
   "outputs": [
    {
     "name": "stdout",
     "output_type": "stream",
     "text": [
      "[[2 3]\n",
      " [4 5]]\n",
      "(2, 2)\n",
      "(2,)\n"
     ]
    }
   ],
   "source": [
    "m1 = np.array([[1, 2], [3, 4]])\n",
    "m2 = np.array([1, 1])\n",
    "print(m1 + m2)\n",
    "print(m1.shape)\n",
    "print(m2.shape)\n"
   ]
  },
  {
   "cell_type": "markdown",
   "id": "047d6576",
   "metadata": {},
   "source": [
    "### The example below would also not be allowed if following the \"mathematical rules\" in Linear Algebra. But it works due to broadcasting in NumPy. "
   ]
  },
  {
   "cell_type": "code",
   "execution_count": 15,
   "id": "5e6ef2e4",
   "metadata": {},
   "outputs": [
    {
     "name": "stdout",
     "output_type": "stream",
     "text": [
      "[2 3 4]\n"
     ]
    }
   ],
   "source": [
    "v1 = np.array([1, 2, 3])\n",
    "print(v1 + 1)"
   ]
  },
  {
   "cell_type": "code",
   "execution_count": 18,
   "id": "e2cbae26",
   "metadata": {},
   "outputs": [
    {
     "name": "stdout",
     "output_type": "stream",
     "text": [
      "[[1 2]\n",
      " [3 4]]\n",
      "[2 2]\n",
      "\n",
      "[[3 4]\n",
      " [5 6]]\n"
     ]
    }
   ],
   "source": [
    "A = np.arange(1, 5).reshape(2,2)\n",
    "print(A)\n",
    "\n",
    "b = np.array([2, 2])\n",
    "print(b)\n",
    "print()\n",
    "print(A+b)"
   ]
  },
  {
   "cell_type": "markdown",
   "id": "722fd5cd",
   "metadata": {},
   "source": [
    "# Vector- and matrix algebra Exercises"
   ]
  },
  {
   "cell_type": "markdown",
   "id": "b63a3081-d976-4d9f-bfd0-a63917e79f7d",
   "metadata": {},
   "source": [
    "**Now you are going to create a function that can be reused every time you add or multiply matrices. The function is created so that we do the addition and multiplication according to the rules of vector- and matrix algebra.**\n",
    "\n",
    "**Create a function \"add_mult_matrices\" that takes two matrices as input arguments (validate that the input are of the type numpy.ndarray by using the isinstance function), a third argument that is either 'add' or 'multiply' that specifies if you want to add or multiply the matrices (validate that the third argument is either 'add' or 'multiply'). When doing matrix addition, validate that the matrices have the same size. When doing matrix multiplication, validate that the sizes conform (i.e. number of columns in the first matrix is equal to the number of rows in the second matrix).**"
   ]
  },
  {
   "cell_type": "code",
   "execution_count": 21,
   "id": "3506f977-ac0a-473f-85bc-eec9f35dc498",
   "metadata": {},
   "outputs": [
    {
     "name": "stdout",
     "output_type": "stream",
     "text": [
      "Addition:\n",
      " [[ 6  8]\n",
      " [10 12]]\n",
      "\n",
      "Multiplication:\n",
      " [[19 22]\n",
      " [43 50]]\n"
     ]
    }
   ],
   "source": [
    "import numpy as np\n",
    "\n",
    "def add_mult_matrices(matrix1, matrix2, operation):\n",
    "    # Validate that inputs are of type numpy.ndarray\n",
    "    if not isinstance(matrix1, np.ndarray) or not isinstance(matrix2, np.ndarray):\n",
    "        raise TypeError(\"Both inputs must be of type numpy.ndarray\")\n",
    "\n",
    "    # Validate that operation is either 'add' or 'multiply'\n",
    "    if operation not in ['add', 'multiply']:\n",
    "        raise ValueError(\"The third argument must be either 'add' or 'multiply'\")\n",
    "\n",
    "    if operation == 'add':\n",
    "        # Validate that matrices have the same shape\n",
    "        if matrix1.shape != matrix2.shape:\n",
    "            raise ValueError(\"Matrices must have the same shape for addition\")\n",
    "        return matrix1 + matrix2\n",
    "    \n",
    "    elif operation == 'multiply':\n",
    "        # Validate that matrix multiplication conforms to rules (columns in first = rows in second)\n",
    "        if matrix1.shape[1] != matrix2.shape[0]:\n",
    "            raise ValueError(\"Number of columns in the first matrix must equal number of rows in the second matrix for multiplication\")\n",
    "        return np.dot(matrix1, matrix2)\n",
    "\n",
    "# Example usage:\n",
    "A = np.array([[1, 2], [3, 4]])\n",
    "B = np.array([[5, 6], [7, 8]])\n",
    "\n",
    "print(\"Addition:\\n\", add_mult_matrices(A, B, 'add'))\n",
    "print()\n",
    "print(\"Multiplication:\\n\", add_mult_matrices(A, B, 'multiply'))"
   ]
  },
  {
   "cell_type": "raw",
   "id": "f25c71d2-68ad-4546-a251-afbbea42fbfa",
   "metadata": {},
   "source": [
    "### Solve all the exercises in chapter 10.1 in the book \"Matematik för yrkeshögskolan\". "
   ]
  },
  {
   "cell_type": "code",
   "execution_count": 40,
   "id": "89df88af-3668-4d98-a0a4-e6d92eea0f89",
   "metadata": {},
   "outputs": [
    {
     "name": "stdout",
     "output_type": "stream",
     "text": [
      "a) Dimension: 1 x 2\n",
      "b) 5x = [20 15]\n",
      "c) 3x = [12  9]\n",
      "d) 5x + 3x = [32 24]\n",
      "e) 8x = [32 24]\n",
      "f) 4x - x = [12  9]\n",
      "g) x^T =\n",
      "[[4]\n",
      " [3]]\n",
      "g) New dimension: 2 x 1\n",
      "h) -\n",
      "i) ||x|| = 5.0\n"
     ]
    }
   ],
   "source": [
    "# 10.1. Vector 𝑥 = (4, 3)\n",
    "x = np.array([4,3])\n",
    "#(a) The dimension of 𝑥 is 2, because it contains two elements.\n",
    "print(f'a) Dimension: 1 x {x.shape[0]}')\n",
    "#(b) 5𝑥 = (5⋅4, 5⋅3) = (20, 15) \n",
    "print(f'b) 5x = {5*x}')\n",
    "#(c) 3𝑥 = (3⋅4, 3⋅3) = (12, 9)\n",
    "print(f'c) 3x = {3*x}')\n",
    "#(d) 5𝑥 + 3𝑥 = (20, 15)+(12, 9) = (32, 24)\n",
    "print(f\"d) 5x + 3x = {add_mult_matrices(5*x, 3*x, 'add')}\")\n",
    "#(e) 8𝑥 = (8⋅4, 8⋅3) = (32, 24)\n",
    "print(f'e) 8x = {8 * x}')\n",
    "#(f) 4𝑥 − 𝑥 = (4⋅4, 4⋅3) − (4, 3) = (16, 12) − (4, 3) = (12, 9)\n",
    "print(f\"f) 4x - x = {add_mult_matrices(4*x, - x, 'add' )}\")\n",
    "#(g) Transposing 𝑥, 𝑥⊤, changes its dimension from (2,) to (2,1) if its a column vector or (1,2) if its a row vector\n",
    "y = x.reshape((2,1))\n",
    "print(f'g) x^T =\\n{y}')\n",
    "print(f'g) New dimension: {y.shape[0]} x {y.shape[1]}')\n",
    "#(h) No, because 𝑥 is a row vector and 𝑥⊤ is a column vector, meaning their dimensions dont match for addition.\n",
    "print(f'h) -')\n",
    "#(i) 𝑥12 + 𝑥22 = 42 + 32 = 16 + 9 = 25 = 5\n",
    "print(f'i) ||x|| = {np.sqrt(np.sum(x**2))}')\n"
   ]
  },
  {
   "cell_type": "code",
   "execution_count": 48,
   "id": "563b1edb-612c-49e6-893b-6e77ffdaec62",
   "metadata": {},
   "outputs": [
    {
     "name": "stdout",
     "output_type": "stream",
     "text": [
      "a) Dimension: 4 x 1\n",
      "b) 2v =\n",
      "[[ 6]\n",
      " [14]\n",
      " [ 0]\n",
      " [22]]\n",
      "c) 5v + 2v =\n",
      "[[21]\n",
      " [49]\n",
      " [ 0]\n",
      " [77]]\n",
      "d) 4v - 2v =\n",
      "[[ 6]\n",
      " [14]\n",
      " [ 0]\n",
      " [22]]\n",
      "e) v^T = [ 3  7  0 11] - Dimension: 1 x 4\n",
      "f) ||v| = 13.379088160259652\n"
     ]
    }
   ],
   "source": [
    "# 10.1.2\n",
    "v=np.array([[3],[7],[0],[11]])\n",
    "print(f'a) Dimension: {v.shape[0]} x {v.shape[1]}')\n",
    "print(f'b) 2v =\\n{2*v}')\n",
    "print(f\"c) 5v + 2v =\\n{add_mult_matrices(5*v,2*v,'add')}\")\n",
    "print(f\"d) 4v - 2v =\\n{add_mult_matrices(4*v,-2*v,'add')}\")\n",
    "print(f'e) v^T = {v.T.reshape(-1)} - Dimension: {v.T.shape[0]} x {v.T.shape[1]}')\n",
    "print(f'f) ||v| = {np.sqrt(np.sum(v**2))}')"
   ]
  },
  {
   "cell_type": "code",
   "execution_count": 46,
   "id": "8143d380-f69d-40d9-976d-4d7684c46ed2",
   "metadata": {},
   "outputs": [
    {
     "name": "stdout",
     "output_type": "stream",
     "text": [
      "a) ||v1|| = 7.14142842854285\n",
      "a) ||v1|| = 7.14142842854285\n",
      "a) ||v1|| = 7.14142842854285\n",
      "\n",
      "b) ||v1 - v2|| = 4.47213595499958\n",
      "b) ||v1 - v2|| = 4.47213595499958\n",
      "b) ||v1 - v2|| = 4.47213595499958\n"
     ]
    }
   ],
   "source": [
    "# 10.1.3\n",
    "v1=np.array([4,3,1,5])\n",
    "v2=np.array([2,3,1,1])\n",
    "\n",
    "print(f'a) ||v1|| = {np.linalg.norm(v1)}')\n",
    "print(f\"a) ||v1|| = {np.sqrt(add_mult_matrices(v1.reshape(1,4),v1.reshape(4,1),'multiply').flat[0])}\")\n",
    "print(f'a) ||v1|| = {np.sqrt(np.sum(v1**2))}')\n",
    "print()\n",
    "print(f'b) ||v1 - v2|| = {np.linalg.norm(v1 - v2)}')\n",
    "print(f\"b) ||v1 - v2|| = {np.sqrt(add_mult_matrices((v1-v2).reshape(1,4),(v1-v2).reshape(4,1),'multiply').flat[0])}\")\n",
    "print(f'b) ||v1 - v2|| = {np.sqrt(np.sum((v1-v2)**2))}')"
   ]
  },
  {
   "cell_type": "markdown",
   "id": "75c98984-1f88-4df1-b850-d2466de444a5",
   "metadata": {},
   "source": [
    "### Solve all the exercises, except 10.2.4, in chapter 10.2 in the book \"Matematik för yrkeshögskolan\". "
   ]
  },
  {
   "cell_type": "code",
   "execution_count": 82,
   "id": "dbd7719a-2f6e-4059-ad85-d926e56d8a2b",
   "metadata": {},
   "outputs": [
    {
     "name": "stdout",
     "output_type": "stream",
     "text": [
      "a) 2A =\n",
      "[[ 4  2 -2]\n",
      " [ 2 -2  2]]\n",
      "\n",
      "b) B - 2A =\n",
      "[[ 0 -4  3]\n",
      " [ 0 -2 -4]]\n",
      "\n",
      "d) 2D - 3C =\n",
      "[[3 2]\n",
      " [2 3]]\n",
      "\n",
      "e) D^T + 2D =\n",
      "[[ 9 12]\n",
      " [12  9]]\n",
      "\n",
      "f) 2C^T - 2D^T =\n",
      "[[-4 -4]\n",
      " [-4 -4]]\n",
      "\n",
      "g) -\n",
      "\n",
      "h) -\n",
      "\n",
      "i) CD =\n",
      "[[11 10]\n",
      " [10 11]]\n",
      "\n",
      "j) CB =\n",
      "[[  8 -10  -3]\n",
      " [ 10  -8   0]]\n",
      "\n",
      "k) CI =\n",
      "[[1 2]\n",
      " [2 1]]\n",
      "\n",
      "l) AB^T =\n",
      "[[5 2]\n",
      " [7 4]]\n"
     ]
    }
   ],
   "source": [
    "# 10.2.1\n",
    "A=np.array([[2,1,-1],[1,-1,1]])\n",
    "B=np.array([[4,-2,1],[2,-4,-2]])\n",
    "C=np.array([[1,2],[2,1]])\n",
    "D=np.array([[3,4],[4,3]])\n",
    "E=np.array([[1],[2]])\n",
    "I=np.array([[1,0],[0,1]])\n",
    "\n",
    "print(f\"a) 2A =\\n{2 * A}\")\n",
    "print()\n",
    "print(f\"b) B - 2A =\\n{add_mult_matrices(B, -2*A, \"add\")}\")\n",
    "print()\n",
    "print(f\"d) 2D - 3C =\\n{add_mult_matrices(2*D, -3*C, \"add\")}\")\n",
    "print()\n",
    "print(f\"e) D^T + 2D =\\n{add_mult_matrices(D.T, 2*D, \"add\")}\")\n",
    "print()\n",
    "print(f\"f) 2C^T - 2D^T =\\n{add_mult_matrices(2*C.T,-2*D.T,\"add\")}\")\n",
    "print()\n",
    "#print(f\"g) A^T - B =\\n{add_mult_matrices(A.T, -B, \"add\")}\")\n",
    "print(f\"g) -\")\n",
    "print()\n",
    "#print(f\"h) AC = \\n{add_mult_matrices(A,C,\"multiply\")}\")\n",
    "print(f\"h) -\")\n",
    "print()\n",
    "print(f\"i) CD =\\n{add_mult_matrices(C,D,\"multiply\")}\")\n",
    "print()\n",
    "print(f\"j) CB =\\n{add_mult_matrices(C,B,\"multiply\")}\")\n",
    "print()\n",
    "print(f\"k) CI =\\n{add_mult_matrices(C,I,\"multiply\")}\")\n",
    "print()\n",
    "print(f\"l) AB^T =\\n{add_mult_matrices(A,B.T,\"multiply\")}\")"
   ]
  },
  {
   "cell_type": "code",
   "execution_count": 79,
   "id": "6c641322-f26b-497a-97aa-68cf6acc6cb7",
   "metadata": {},
   "outputs": [
    {
     "name": "stdout",
     "output_type": "stream",
     "text": [
      "AA^T =\n",
      "[[29 26]\n",
      " [26 42]]\n"
     ]
    }
   ],
   "source": [
    "# 10.2.2\n",
    "A = np.array([[2,3,4],[5,4,1]])\n",
    "print(f\"AA^T =\\n{add_mult_matrices(A, A.T ,\"multiply\")}\")"
   ]
  },
  {
   "cell_type": "code",
   "execution_count": 78,
   "id": "d3564709-0d90-4f9d-876b-b568518e3d0d",
   "metadata": {},
   "outputs": [
    {
     "name": "stdout",
     "output_type": "stream",
     "text": [
      "AB = AC - True\n",
      "B = C - False\n"
     ]
    }
   ],
   "source": [
    "# 10.2.3 \n",
    "A, B, C = np.array([[1,2],[2,4]]), np.array([[2,1],[1,3]]), np.array([[4,3],[0,2]])\n",
    "print(f\"AB = AC - {bool(np.prod(add_mult_matrices(A, B ,\"multiply\").__eq__(add_mult_matrices(A, C, \"multiply\"))))}\")\n",
    "print(f\"B = C - {bool(np.prod(B.__eq__(C)))}\")"
   ]
  },
  {
   "cell_type": "markdown",
   "id": "6a4a524f",
   "metadata": {},
   "source": [
    "### Copies and Views\n",
    "Read the following link: https://numpy.org/doc/stable/user/basics.copies.html"
   ]
  },
  {
   "cell_type": "markdown",
   "id": "6cbbeaf7",
   "metadata": {},
   "source": [
    "**Basic indexing creates a view, How can you check if v1 and v2 is a view or copy? If you change the last element in v2 to 123, will the last element in v1 be changed? Why?**"
   ]
  },
  {
   "cell_type": "code",
   "execution_count": 73,
   "id": "5b9ef4df",
   "metadata": {},
   "outputs": [
    {
     "name": "stdout",
     "output_type": "stream",
     "text": [
      "[0 1 2 3]\n",
      "[2 3]\n"
     ]
    }
   ],
   "source": [
    "import numpy as np\n",
    "v1 = np.arange(4)\n",
    "v2 = v1[-2:]\n",
    "print(v1)\n",
    "print(v2)"
   ]
  },
  {
   "cell_type": "code",
   "execution_count": 74,
   "id": "d2440489",
   "metadata": {},
   "outputs": [
    {
     "name": "stdout",
     "output_type": "stream",
     "text": [
      "None\n",
      "[0 1 2 3]\n"
     ]
    }
   ],
   "source": [
    "# The base attribute of a view returns the original array while it returns None for a copy.\n",
    "print(v1.base)\n",
    "print(v2.base)"
   ]
  },
  {
   "cell_type": "code",
   "execution_count": 75,
   "id": "c8752807",
   "metadata": {},
   "outputs": [
    {
     "name": "stdout",
     "output_type": "stream",
     "text": [
      "[  0   1   2 123]\n",
      "[  2 123]\n"
     ]
    }
   ],
   "source": [
    "# The last element in v1 will be changed aswell since v2 is a view, meaning they share the same data buffer.\n",
    "v2[-1] = 123\n",
    "print(v1)\n",
    "print(v2)"
   ]
  },
  {
   "cell_type": "code",
   "execution_count": null,
   "id": "3dd68221",
   "metadata": {},
   "outputs": [],
   "source": []
  }
 ],
 "metadata": {
  "kernelspec": {
   "display_name": "Python 3 (ipykernel)",
   "language": "python",
   "name": "python3"
  },
  "language_info": {
   "codemirror_mode": {
    "name": "ipython",
    "version": 3
   },
   "file_extension": ".py",
   "mimetype": "text/x-python",
   "name": "python",
   "nbconvert_exporter": "python",
   "pygments_lexer": "ipython3",
   "version": "3.13.3"
  }
 },
 "nbformat": 4,
 "nbformat_minor": 5
}
